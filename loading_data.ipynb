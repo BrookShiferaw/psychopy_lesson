{
 "cells": [
  {
   "cell_type": "code",
   "execution_count": 3,
   "metadata": {
    "collapsed": true
   },
   "outputs": [],
   "source": [
    "import numpy as np\n",
    "import pandas as pd\n",
    "import glob"
   ]
  },
  {
   "cell_type": "code",
   "execution_count": 39,
   "metadata": {
    "collapsed": false
   },
   "outputs": [
    {
     "data": {
      "text/plain": [
       "u'/Users/talithaford/Dropbox/Conference-Workshop/ResBaz/2016/psychopy_lesson'"
      ]
     },
     "execution_count": 39,
     "metadata": {},
     "output_type": "execute_result"
    }
   ],
   "source": [
    "pwd"
   ]
  },
  {
   "cell_type": "code",
   "execution_count": 73,
   "metadata": {
    "collapsed": false
   },
   "outputs": [],
   "source": [
    "data_lst = glob.glob('data/*2016_Feb_02_*.csv')"
   ]
  },
  {
   "cell_type": "code",
   "execution_count": 74,
   "metadata": {
    "collapsed": false
   },
   "outputs": [
    {
     "data": {
      "text/plain": [
       "['data/tf1_visneuro_2016_Feb_02_1234.csv',\n",
       " 'data/tf_visneuro_2016_Feb_02_1218.csv',\n",
       " 'data/tf_visneuro_2016_Feb_02_1233.csv']"
      ]
     },
     "execution_count": 74,
     "metadata": {},
     "output_type": "execute_result"
    }
   ],
   "source": [
    "data_lst\n"
   ]
  },
  {
   "cell_type": "code",
   "execution_count": 55,
   "metadata": {
    "collapsed": false
   },
   "outputs": [
    {
     "name": "stdout",
     "output_type": "stream",
     "text": [
      "(50, 15)\n"
     ]
    }
   ],
   "source": [
    "for i in data_lst:\n",
    "    data = pd.read_csv(i).dropna(axis=1)\n",
    "    print data.shape"
   ]
  },
  {
   "cell_type": "code",
   "execution_count": null,
   "metadata": {
    "collapsed": false
   },
   "outputs": [],
   "source": []
  },
  {
   "cell_type": "code",
   "execution_count": 82,
   "metadata": {
    "collapsed": false
   },
   "outputs": [
    {
     "name": "stdout",
     "output_type": "stream",
     "text": [
      "(50, 15)\n",
      "(50, 15)\n",
      "(50, 15)\n"
     ]
    }
   ],
   "source": [
    "data_lst = glob.glob('data/*2016_Feb_02_*.csv')\n",
    "frame = pd.DataFrame()\n",
    "all_data = []\n",
    "for data in data_lst:\n",
    "    df = pd.read_csv(data,index_col=None, header=0).dropna(axis=1)\n",
    "    if not df.shape == (50,15):\n",
    "        continue\n",
    "    print df.shape\n",
    "    all_data.append(df)\n",
    "    \n",
    "frame = pd.concat(all_data).reset_index().drop('index', axis = 1)\n",
    "if list(frame.columns) == ['correct_ans',\n",
    " 'images',\n",
    " 'type_of_image',\n",
    " 'loop.thisRepN',\n",
    " 'loop.thisTrialN',\n",
    " 'loop.thisN',\n",
    " 'loop.thisIndex',\n",
    " 'key_resp.keys',\n",
    " 'key_resp.corr',\n",
    " 'key_resp.rt',\n",
    " 'date',\n",
    " 'frameRate',\n",
    " 'expName',\n",
    " 'session',\n",
    " 'participant']\n"
   ]
  },
  {
   "cell_type": "code",
   "execution_count": 84,
   "metadata": {
    "collapsed": false
   },
   "outputs": [
    {
     "data": {
      "text/plain": [
       "['correct_ans',\n",
       " 'images',\n",
       " 'type_of_image',\n",
       " 'loop.thisRepN',\n",
       " 'loop.thisTrialN',\n",
       " 'loop.thisN',\n",
       " 'loop.thisIndex',\n",
       " 'key_resp.keys',\n",
       " 'key_resp.corr',\n",
       " 'key_resp.rt',\n",
       " 'date',\n",
       " 'frameRate',\n",
       " 'expName',\n",
       " 'session',\n",
       " 'participant']"
      ]
     },
     "execution_count": 84,
     "metadata": {},
     "output_type": "execute_result"
    }
   ],
   "source": [
    "frame.columns = ['correct_ans',\n",
    " 'images',\n",
    " 'type_of_image',\n",
    " 'loop.thisRepN',\n",
    " 'loop.thisTrialN',\n",
    " 'loop.thisN',\n",
    " 'loop.thisIndex',\n",
    " 'key_resp.keys',\n",
    " 'key_resp.corr',\n",
    " 'key_resp.rt',\n",
    " 'date',\n",
    " 'frameRate',\n",
    " 'expName',\n",
    " 'session',\n",
    " 'participant']"
   ]
  },
  {
   "cell_type": "code",
   "execution_count": 70,
   "metadata": {
    "collapsed": false
   },
   "outputs": [],
   "source": []
  },
  {
   "cell_type": "code",
   "execution_count": 72,
   "metadata": {
    "collapsed": false
   },
   "outputs": [
    {
     "data": {
      "text/plain": [
       "[<matplotlib.lines.Line2D at 0x107781890>]"
      ]
     },
     "execution_count": 72,
     "metadata": {},
     "output_type": "execute_result"
    },
    {
     "data": {
      "image/png": "[encoded data removed]",
      "text/plain": [
       "<matplotlib.figure.Figure at 0x1074b5c10>"
      ]
     },
     "metadata": {},
     "output_type": "display_data"
    }
   ],
   "source": []
  },
  {
   "cell_type": "code",
   "execution_count": null,
   "metadata": {
    "collapsed": false
   },
   "outputs": [],
   "source": []
  },
  {
   "cell_type": "code",
   "execution_count": null,
   "metadata": {
    "collapsed": true
   },
   "outputs": [],
   "source": []
  },
  {
   "cell_type": "code",
   "execution_count": null,
   "metadata": {
    "collapsed": true
   },
   "outputs": [],
   "source": []
  }
 ],
 "metadata": {
  "kernelspec": {
   "display_name": "Python 2",
   "language": "python",
   "name": "python2"
  },
  "language_info": {
   "codemirror_mode": {
    "name": "ipython",
    "version": 2
   },
   "file_extension": ".py",
   "mimetype": "text/x-python",
   "name": "python",
   "nbconvert_exporter": "python",
   "pygments_lexer": "ipython2",
   "version": "2.7.10"
  }
 },
 "nbformat": 4,
 "nbformat_minor": 0
}
