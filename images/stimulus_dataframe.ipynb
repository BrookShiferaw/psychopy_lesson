{
 "cells": [
  {
   "cell_type": "code",
   "execution_count": 1,
   "metadata": {
    "collapsed": true
   },
   "outputs": [],
   "source": [
    "import pandas as pd\n",
    "import glob"
   ]
  },
  {
   "cell_type": "code",
   "execution_count": 5,
   "metadata": {
    "collapsed": false
   },
   "outputs": [
    {
     "data": {
      "text/plain": [
       "'/Users/talithaford/Desktop/TalithasFiles/NeuralCodeTF/visneuro/images'"
      ]
     },
     "execution_count": 5,
     "metadata": {},
     "output_type": "execute_result"
    }
   ],
   "source": [
    "pwd"
   ]
  },
  {
   "cell_type": "code",
   "execution_count": 3,
   "metadata": {
    "collapsed": false
   },
   "outputs": [
    {
     "name": "stdout",
     "output_type": "stream",
     "text": [
      "['cat_eyes.jpeg', 'ear_muffs_cat.jpeg', 'egg_hog.jpeg', 'gorilla_face.jpeg', 'gorilla_fat.jpeg', 'gorilla_tongue.jpeg', 'icecream_hog.jpeg', 'marshmallow_hog.jpeg', 'rat_cat.jpeg', 'santa_hog.jpeg']\n"
     ]
    }
   ],
   "source": [
    "jpegs = glob.glob('*.jpeg')\n",
    "print(jpegs)"
   ]
  },
  {
   "cell_type": "code",
   "execution_count": 7,
   "metadata": {
    "collapsed": false
   },
   "outputs": [
    {
     "name": "stdout",
     "output_type": "stream",
     "text": [
      "['images/cat_eyes.jpeg', 'images/ear_muffs_cat.jpeg', 'images/egg_hog.jpeg', 'images/gorilla_face.jpeg', 'images/gorilla_fat.jpeg', 'images/gorilla_tongue.jpeg', 'images/icecream_hog.jpeg', 'images/marshmallow_hog.jpeg', 'images/rat_cat.jpeg', 'images/santa_hog.jpeg']\n"
     ]
    }
   ],
   "source": [
    "pics = []\n",
    "for p in jpegs:\n",
    "    pics.append('images/'+p)\n",
    "print(pics)"
   ]
  },
  {
   "cell_type": "code",
   "execution_count": 13,
   "metadata": {
    "collapsed": false
   },
   "outputs": [
    {
     "name": "stdout",
     "output_type": "stream",
     "text": [
      "['images/gorilla_face.jpeg', 'images/gorilla_fat.jpeg', 'images/gorilla_tongue.jpeg']\n",
      "['images/cat_eyes.jpeg', 'images/ear_muffs_cat.jpeg', 'images/rat_cat.jpeg']\n",
      "['images/egg_hog.jpeg', 'images/icecream_hog.jpeg', 'images/marshmallow_hog.jpeg', 'images/santa_hog.jpeg']\n"
     ]
    }
   ],
   "source": [
    "gorilla = []\n",
    "cat = []\n",
    "hog = []\n",
    "\n",
    "for p in pics:\n",
    "    if 'gorilla' in p:\n",
    "        gorilla.append(p)\n",
    "    elif 'cat' in p:\n",
    "        cat.append(p)\n",
    "    else:\n",
    "        hog.append(p)\n",
    "\n",
    "print(gorilla)\n",
    "print(cat)\n",
    "print(hog)"
   ]
  },
  {
   "cell_type": "code",
   "execution_count": 14,
   "metadata": {
    "collapsed": false
   },
   "outputs": [],
   "source": [
    "datafile = pd.DataFrame({'images':gorilla+cat+hog,'correct_ans':(['left']*len(gorilla))+(['right']*len(cat))+(['up']*len(hog))})"
   ]
  },
  {
   "cell_type": "code",
   "execution_count": 15,
   "metadata": {
    "collapsed": true
   },
   "outputs": [],
   "source": [
    "datafile.to_excel('datafile.xlsx', index=False)"
   ]
  },
  {
   "cell_type": "code",
   "execution_count": 16,
   "metadata": {
    "collapsed": false
   },
   "outputs": [
    {
     "data": {
      "text/html": [
       "<div style=\"max-height:1000px;max-width:1500px;overflow:auto;\">\n",
       "<table border=\"1\" class=\"dataframe\">\n",
       "  <thead>\n",
       "    <tr style=\"text-align: right;\">\n",
       "      <th></th>\n",
       "      <th>correct_ans</th>\n",
       "      <th>images</th>\n",
       "    </tr>\n",
       "  </thead>\n",
       "  <tbody>\n",
       "    <tr>\n",
       "      <th>0</th>\n",
       "      <td>  left</td>\n",
       "      <td>    images/gorilla_face.jpeg</td>\n",
       "    </tr>\n",
       "    <tr>\n",
       "      <th>1</th>\n",
       "      <td>  left</td>\n",
       "      <td>     images/gorilla_fat.jpeg</td>\n",
       "    </tr>\n",
       "    <tr>\n",
       "      <th>2</th>\n",
       "      <td>  left</td>\n",
       "      <td>  images/gorilla_tongue.jpeg</td>\n",
       "    </tr>\n",
       "    <tr>\n",
       "      <th>3</th>\n",
       "      <td> right</td>\n",
       "      <td>        images/cat_eyes.jpeg</td>\n",
       "    </tr>\n",
       "    <tr>\n",
       "      <th>4</th>\n",
       "      <td> right</td>\n",
       "      <td>   images/ear_muffs_cat.jpeg</td>\n",
       "    </tr>\n",
       "    <tr>\n",
       "      <th>5</th>\n",
       "      <td> right</td>\n",
       "      <td>         images/rat_cat.jpeg</td>\n",
       "    </tr>\n",
       "    <tr>\n",
       "      <th>6</th>\n",
       "      <td>    up</td>\n",
       "      <td>         images/egg_hog.jpeg</td>\n",
       "    </tr>\n",
       "    <tr>\n",
       "      <th>7</th>\n",
       "      <td>    up</td>\n",
       "      <td>    images/icecream_hog.jpeg</td>\n",
       "    </tr>\n",
       "    <tr>\n",
       "      <th>8</th>\n",
       "      <td>    up</td>\n",
       "      <td> images/marshmallow_hog.jpeg</td>\n",
       "    </tr>\n",
       "    <tr>\n",
       "      <th>9</th>\n",
       "      <td>    up</td>\n",
       "      <td>       images/santa_hog.jpeg</td>\n",
       "    </tr>\n",
       "  </tbody>\n",
       "</table>\n",
       "</div>"
      ],
      "text/plain": [
       "  correct_ans                       images\n",
       "0        left     images/gorilla_face.jpeg\n",
       "1        left      images/gorilla_fat.jpeg\n",
       "2        left   images/gorilla_tongue.jpeg\n",
       "3       right         images/cat_eyes.jpeg\n",
       "4       right    images/ear_muffs_cat.jpeg\n",
       "5       right          images/rat_cat.jpeg\n",
       "6          up          images/egg_hog.jpeg\n",
       "7          up     images/icecream_hog.jpeg\n",
       "8          up  images/marshmallow_hog.jpeg\n",
       "9          up        images/santa_hog.jpeg"
      ]
     },
     "execution_count": 16,
     "metadata": {},
     "output_type": "execute_result"
    }
   ],
   "source": [
    "datafile"
   ]
  },
  {
   "cell_type": "code",
   "execution_count": null,
   "metadata": {
    "collapsed": true
   },
   "outputs": [],
   "source": []
  }
 ],
 "metadata": {
  "kernelspec": {
   "display_name": "Python 3",
   "language": "python",
   "name": "python3"
  },
  "language_info": {
   "codemirror_mode": {
    "name": "ipython",
    "version": 3
   },
   "file_extension": ".py",
   "mimetype": "text/x-python",
   "name": "python",
   "nbconvert_exporter": "python",
   "pygments_lexer": "ipython3",
   "version": "3.4.3"
  }
 },
 "nbformat": 4,
 "nbformat_minor": 0
}
