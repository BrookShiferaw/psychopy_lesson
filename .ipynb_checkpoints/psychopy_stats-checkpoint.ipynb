{
 "cells": [
  {
   "cell_type": "markdown",
   "metadata": {},
   "source": [
    "\n",
    "<img src='./gui_shots/iPyNB.png' style='width:500px';/>\n",
    "\n",
    "Using the Python Pandas library to explore the data\n",
    "---\n",
    "**Learning objectives:**\n",
    "- Use shell commands to navigate to the data folder\n",
    "- Import Psychopy data into the Jupyter Notebook\n",
    "- Generate descriptive statistics\n",
    "- Plot some comparisons by grouping data "
   ]
  },
  {
   "cell_type": "markdown",
   "metadata": {},
   "source": [
    "-------\n",
    "\n",
    "Here we are using iPython version 3 in the [iPython Jupyter Notebook](http://ipython.org/notebook.html)\n",
    "\n",
    "We will set up the notebook and load the additional software library we will need  - \"Pandas\".\n",
    "\n",
    "--------"
   ]
  },
  {
   "cell_type": "code",
   "execution_count": 1,
   "metadata": {
    "collapsed": false
   },
   "outputs": [],
   "source": [
    "import pandas as pd"
   ]
  },
  {
   "cell_type": "markdown",
   "metadata": {},
   "source": [
    "-------\n",
    "\n",
    "The Jupyter Notebook understands shell commands as well, we'll use this to find our data. We'll use the exclamation mark to signal that what follows is a shell command rather than Python code.\n",
    "\n",
    "---------"
   ]
  },
  {
   "cell_type": "code",
   "execution_count": 2,
   "metadata": {
    "collapsed": false
   },
   "outputs": [
    {
     "name": "stdout",
     "output_type": "stream",
     "text": [
      "/Users/talithaford/Dropbox/Conference-Workshop/ResBaz/2016/psychopy_lesson\r\n"
     ]
    }
   ],
   "source": [
    "# print working directory \n",
    "!pwd"
   ]
  },
  {
   "cell_type": "code",
   "execution_count": 3,
   "metadata": {
    "collapsed": false
   },
   "outputs": [
    {
     "name": "stdout",
     "output_type": "stream",
     "text": [
      "tf1_visneuro_2016_Feb_02_1234.csv    tf_visneuro_2016_Feb_02_1218.psydat\r\n",
      "tf1_visneuro_2016_Feb_02_1234.log    tf_visneuro_2016_Feb_02_1233.csv\r\n",
      "tf1_visneuro_2016_Feb_02_1234.psydat tf_visneuro_2016_Feb_02_1233.log\r\n",
      "tf_visneuro_2016_Feb_02_1218.csv     tf_visneuro_2016_Feb_02_1233.psydat\r\n",
      "tf_visneuro_2016_Feb_02_1218.log\r\n"
     ]
    }
   ],
   "source": [
    "# list files in 'data/'\n",
    "!ls data/"
   ]
  },
  {
   "cell_type": "markdown",
   "metadata": {},
   "source": [
    "--------\n",
    "\n",
    "We can use the 'read_csv' function of Pandas to read the datafile into a pandas DataFrame. A DataFrame will look familiar to anyone who has used Excel or SPSS.\n",
    "\n",
    "--------"
   ]
  },
  {
   "cell_type": "code",
   "execution_count": 4,
   "metadata": {
    "collapsed": false
   },
   "outputs": [
    {
     "data": {
      "text/html": [
       "<div>\n",
       "<table border=\"1\" class=\"dataframe\">\n",
       "  <thead>\n",
       "    <tr style=\"text-align: right;\">\n",
       "      <th></th>\n",
       "      <th>correct_ans</th>\n",
       "      <th>images</th>\n",
       "      <th>type_of_image</th>\n",
       "      <th>loop.thisRepN</th>\n",
       "      <th>loop.thisTrialN</th>\n",
       "      <th>loop.thisN</th>\n",
       "      <th>loop.thisIndex</th>\n",
       "      <th>key_resp_3.keys</th>\n",
       "      <th>key_resp_3.corr</th>\n",
       "      <th>key_resp_3.rt</th>\n",
       "      <th>date</th>\n",
       "      <th>frameRate</th>\n",
       "      <th>expName</th>\n",
       "      <th>session</th>\n",
       "      <th>participant</th>\n",
       "      <th>Unnamed: 15</th>\n",
       "    </tr>\n",
       "  </thead>\n",
       "  <tbody>\n",
       "    <tr>\n",
       "      <th>0</th>\n",
       "      <td>up</td>\n",
       "      <td>images/egg_hog.jpeg</td>\n",
       "      <td>hog</td>\n",
       "      <td>0</td>\n",
       "      <td>0</td>\n",
       "      <td>0</td>\n",
       "      <td>6</td>\n",
       "      <td>up</td>\n",
       "      <td>1</td>\n",
       "      <td>0.633549</td>\n",
       "      <td>2016_Feb_02_1234</td>\n",
       "      <td>60.205465</td>\n",
       "      <td>visneuro</td>\n",
       "      <td>1</td>\n",
       "      <td>tf1</td>\n",
       "      <td>NaN</td>\n",
       "    </tr>\n",
       "    <tr>\n",
       "      <th>1</th>\n",
       "      <td>right</td>\n",
       "      <td>images/cat_eyes.jpeg</td>\n",
       "      <td>cat</td>\n",
       "      <td>0</td>\n",
       "      <td>1</td>\n",
       "      <td>1</td>\n",
       "      <td>3</td>\n",
       "      <td>right</td>\n",
       "      <td>1</td>\n",
       "      <td>0.550386</td>\n",
       "      <td>2016_Feb_02_1234</td>\n",
       "      <td>60.205465</td>\n",
       "      <td>visneuro</td>\n",
       "      <td>1</td>\n",
       "      <td>tf1</td>\n",
       "      <td>NaN</td>\n",
       "    </tr>\n",
       "    <tr>\n",
       "      <th>2</th>\n",
       "      <td>left</td>\n",
       "      <td>images/gorilla_tongue.jpeg</td>\n",
       "      <td>gorilla</td>\n",
       "      <td>0</td>\n",
       "      <td>2</td>\n",
       "      <td>2</td>\n",
       "      <td>2</td>\n",
       "      <td>left</td>\n",
       "      <td>1</td>\n",
       "      <td>0.600392</td>\n",
       "      <td>2016_Feb_02_1234</td>\n",
       "      <td>60.205465</td>\n",
       "      <td>visneuro</td>\n",
       "      <td>1</td>\n",
       "      <td>tf1</td>\n",
       "      <td>NaN</td>\n",
       "    </tr>\n",
       "    <tr>\n",
       "      <th>3</th>\n",
       "      <td>up</td>\n",
       "      <td>images/santa_hog.jpeg</td>\n",
       "      <td>hog</td>\n",
       "      <td>0</td>\n",
       "      <td>3</td>\n",
       "      <td>3</td>\n",
       "      <td>9</td>\n",
       "      <td>up</td>\n",
       "      <td>1</td>\n",
       "      <td>0.600248</td>\n",
       "      <td>2016_Feb_02_1234</td>\n",
       "      <td>60.205465</td>\n",
       "      <td>visneuro</td>\n",
       "      <td>1</td>\n",
       "      <td>tf1</td>\n",
       "      <td>NaN</td>\n",
       "    </tr>\n",
       "    <tr>\n",
       "      <th>4</th>\n",
       "      <td>right</td>\n",
       "      <td>images/ear_muffs_cat.jpeg</td>\n",
       "      <td>cat</td>\n",
       "      <td>0</td>\n",
       "      <td>4</td>\n",
       "      <td>4</td>\n",
       "      <td>4</td>\n",
       "      <td>right</td>\n",
       "      <td>1</td>\n",
       "      <td>0.749853</td>\n",
       "      <td>2016_Feb_02_1234</td>\n",
       "      <td>60.205465</td>\n",
       "      <td>visneuro</td>\n",
       "      <td>1</td>\n",
       "      <td>tf1</td>\n",
       "      <td>NaN</td>\n",
       "    </tr>\n",
       "  </tbody>\n",
       "</table>\n",
       "</div>"
      ],
      "text/plain": [
       "  correct_ans                      images type_of_image  loop.thisRepN  \\\n",
       "0          up         images/egg_hog.jpeg           hog              0   \n",
       "1       right        images/cat_eyes.jpeg           cat              0   \n",
       "2        left  images/gorilla_tongue.jpeg       gorilla              0   \n",
       "3          up       images/santa_hog.jpeg           hog              0   \n",
       "4       right   images/ear_muffs_cat.jpeg           cat              0   \n",
       "\n",
       "   loop.thisTrialN  loop.thisN  loop.thisIndex key_resp_3.keys  \\\n",
       "0                0           0               6              up   \n",
       "1                1           1               3           right   \n",
       "2                2           2               2            left   \n",
       "3                3           3               9              up   \n",
       "4                4           4               4           right   \n",
       "\n",
       "   key_resp_3.corr  key_resp_3.rt              date  frameRate   expName  \\\n",
       "0                1       0.633549  2016_Feb_02_1234  60.205465  visneuro   \n",
       "1                1       0.550386  2016_Feb_02_1234  60.205465  visneuro   \n",
       "2                1       0.600392  2016_Feb_02_1234  60.205465  visneuro   \n",
       "3                1       0.600248  2016_Feb_02_1234  60.205465  visneuro   \n",
       "4                1       0.749853  2016_Feb_02_1234  60.205465  visneuro   \n",
       "\n",
       "   session participant  Unnamed: 15  \n",
       "0        1         tf1          NaN  \n",
       "1        1         tf1          NaN  \n",
       "2        1         tf1          NaN  \n",
       "3        1         tf1          NaN  \n",
       "4        1         tf1          NaN  "
      ]
     },
     "execution_count": 4,
     "metadata": {},
     "output_type": "execute_result"
    }
   ],
   "source": [
    "# read the csv\n",
    "df = pd.read_csv('data/tf1_visneuro_2016_Feb_02_1234.csv')\n",
    "# print the first 5 lines of the DataFrame\n",
    "df.head()"
   ]
  },
  {
   "cell_type": "code",
   "execution_count": 5,
   "metadata": {
    "collapsed": false
   },
   "outputs": [
    {
     "data": {
      "text/html": [
       "<div>\n",
       "<table border=\"1\" class=\"dataframe\">\n",
       "  <thead>\n",
       "    <tr style=\"text-align: right;\">\n",
       "      <th></th>\n",
       "      <th>correct_ans</th>\n",
       "      <th>images</th>\n",
       "      <th>type_of_image</th>\n",
       "      <th>loop.thisRepN</th>\n",
       "      <th>loop.thisTrialN</th>\n",
       "      <th>loop.thisN</th>\n",
       "      <th>loop.thisIndex</th>\n",
       "      <th>key_resp_3.keys</th>\n",
       "      <th>key_resp_3.corr</th>\n",
       "      <th>key_resp_3.rt</th>\n",
       "      <th>date</th>\n",
       "      <th>frameRate</th>\n",
       "      <th>expName</th>\n",
       "      <th>session</th>\n",
       "      <th>participant</th>\n",
       "      <th>Unnamed: 15</th>\n",
       "    </tr>\n",
       "  </thead>\n",
       "  <tbody>\n",
       "    <tr>\n",
       "      <th>1</th>\n",
       "      <td>right</td>\n",
       "      <td>images/cat_eyes.jpeg</td>\n",
       "      <td>cat</td>\n",
       "      <td>0</td>\n",
       "      <td>1</td>\n",
       "      <td>1</td>\n",
       "      <td>3</td>\n",
       "      <td>right</td>\n",
       "      <td>1</td>\n",
       "      <td>0.550386</td>\n",
       "      <td>2016_Feb_02_1234</td>\n",
       "      <td>60.205465</td>\n",
       "      <td>visneuro</td>\n",
       "      <td>1</td>\n",
       "      <td>tf1</td>\n",
       "      <td>NaN</td>\n",
       "    </tr>\n",
       "    <tr>\n",
       "      <th>2</th>\n",
       "      <td>left</td>\n",
       "      <td>images/gorilla_tongue.jpeg</td>\n",
       "      <td>gorilla</td>\n",
       "      <td>0</td>\n",
       "      <td>2</td>\n",
       "      <td>2</td>\n",
       "      <td>2</td>\n",
       "      <td>left</td>\n",
       "      <td>1</td>\n",
       "      <td>0.600392</td>\n",
       "      <td>2016_Feb_02_1234</td>\n",
       "      <td>60.205465</td>\n",
       "      <td>visneuro</td>\n",
       "      <td>1</td>\n",
       "      <td>tf1</td>\n",
       "      <td>NaN</td>\n",
       "    </tr>\n",
       "    <tr>\n",
       "      <th>3</th>\n",
       "      <td>up</td>\n",
       "      <td>images/santa_hog.jpeg</td>\n",
       "      <td>hog</td>\n",
       "      <td>0</td>\n",
       "      <td>3</td>\n",
       "      <td>3</td>\n",
       "      <td>9</td>\n",
       "      <td>up</td>\n",
       "      <td>1</td>\n",
       "      <td>0.600248</td>\n",
       "      <td>2016_Feb_02_1234</td>\n",
       "      <td>60.205465</td>\n",
       "      <td>visneuro</td>\n",
       "      <td>1</td>\n",
       "      <td>tf1</td>\n",
       "      <td>NaN</td>\n",
       "    </tr>\n",
       "    <tr>\n",
       "      <th>4</th>\n",
       "      <td>right</td>\n",
       "      <td>images/ear_muffs_cat.jpeg</td>\n",
       "      <td>cat</td>\n",
       "      <td>0</td>\n",
       "      <td>4</td>\n",
       "      <td>4</td>\n",
       "      <td>4</td>\n",
       "      <td>right</td>\n",
       "      <td>1</td>\n",
       "      <td>0.749853</td>\n",
       "      <td>2016_Feb_02_1234</td>\n",
       "      <td>60.205465</td>\n",
       "      <td>visneuro</td>\n",
       "      <td>1</td>\n",
       "      <td>tf1</td>\n",
       "      <td>NaN</td>\n",
       "    </tr>\n",
       "    <tr>\n",
       "      <th>5</th>\n",
       "      <td>up</td>\n",
       "      <td>images/marshmallow_hog.jpeg</td>\n",
       "      <td>hog</td>\n",
       "      <td>0</td>\n",
       "      <td>5</td>\n",
       "      <td>5</td>\n",
       "      <td>8</td>\n",
       "      <td>up</td>\n",
       "      <td>1</td>\n",
       "      <td>0.766511</td>\n",
       "      <td>2016_Feb_02_1234</td>\n",
       "      <td>60.205465</td>\n",
       "      <td>visneuro</td>\n",
       "      <td>1</td>\n",
       "      <td>tf1</td>\n",
       "      <td>NaN</td>\n",
       "    </tr>\n",
       "  </tbody>\n",
       "</table>\n",
       "</div>"
      ],
      "text/plain": [
       "  correct_ans                       images type_of_image  loop.thisRepN  \\\n",
       "1       right         images/cat_eyes.jpeg           cat              0   \n",
       "2        left   images/gorilla_tongue.jpeg       gorilla              0   \n",
       "3          up        images/santa_hog.jpeg           hog              0   \n",
       "4       right    images/ear_muffs_cat.jpeg           cat              0   \n",
       "5          up  images/marshmallow_hog.jpeg           hog              0   \n",
       "\n",
       "   loop.thisTrialN  loop.thisN  loop.thisIndex key_resp_3.keys  \\\n",
       "1                1           1               3           right   \n",
       "2                2           2               2            left   \n",
       "3                3           3               9              up   \n",
       "4                4           4               4           right   \n",
       "5                5           5               8              up   \n",
       "\n",
       "   key_resp_3.corr  key_resp_3.rt              date  frameRate   expName  \\\n",
       "1                1       0.550386  2016_Feb_02_1234  60.205465  visneuro   \n",
       "2                1       0.600392  2016_Feb_02_1234  60.205465  visneuro   \n",
       "3                1       0.600248  2016_Feb_02_1234  60.205465  visneuro   \n",
       "4                1       0.749853  2016_Feb_02_1234  60.205465  visneuro   \n",
       "5                1       0.766511  2016_Feb_02_1234  60.205465  visneuro   \n",
       "\n",
       "   session participant  Unnamed: 15  \n",
       "1        1         tf1          NaN  \n",
       "2        1         tf1          NaN  \n",
       "3        1         tf1          NaN  \n",
       "4        1         tf1          NaN  \n",
       "5        1         tf1          NaN  "
      ]
     },
     "execution_count": 5,
     "metadata": {},
     "output_type": "execute_result"
    }
   ],
   "source": [
    "# drop the first row (under the header)\n",
    "# the inplace option allows us to makes changes to the dataframe directly \n",
    "# rather than having to save the output to another variable\n",
    "df.drop(0, inplace=True)\n",
    "df.head()"
   ]
  },
  {
   "cell_type": "code",
   "execution_count": 6,
   "metadata": {
    "collapsed": false
   },
   "outputs": [
    {
     "data": {
      "text/html": [
       "<div>\n",
       "<table border=\"1\" class=\"dataframe\">\n",
       "  <thead>\n",
       "    <tr style=\"text-align: right;\">\n",
       "      <th></th>\n",
       "      <th>correct_ans</th>\n",
       "      <th>images</th>\n",
       "      <th>type_of_image</th>\n",
       "      <th>loop.thisRepN</th>\n",
       "      <th>loop.thisTrialN</th>\n",
       "      <th>loop.thisN</th>\n",
       "      <th>loop.thisIndex</th>\n",
       "      <th>key_resp_3.keys</th>\n",
       "      <th>key_resp_3.corr</th>\n",
       "      <th>key_resp_3.rt</th>\n",
       "      <th>date</th>\n",
       "      <th>frameRate</th>\n",
       "      <th>expName</th>\n",
       "      <th>session</th>\n",
       "      <th>participant</th>\n",
       "    </tr>\n",
       "  </thead>\n",
       "  <tbody>\n",
       "    <tr>\n",
       "      <th>1</th>\n",
       "      <td>right</td>\n",
       "      <td>images/cat_eyes.jpeg</td>\n",
       "      <td>cat</td>\n",
       "      <td>0</td>\n",
       "      <td>1</td>\n",
       "      <td>1</td>\n",
       "      <td>3</td>\n",
       "      <td>right</td>\n",
       "      <td>1</td>\n",
       "      <td>0.550386</td>\n",
       "      <td>2016_Feb_02_1234</td>\n",
       "      <td>60.205465</td>\n",
       "      <td>visneuro</td>\n",
       "      <td>1</td>\n",
       "      <td>tf1</td>\n",
       "    </tr>\n",
       "    <tr>\n",
       "      <th>2</th>\n",
       "      <td>left</td>\n",
       "      <td>images/gorilla_tongue.jpeg</td>\n",
       "      <td>gorilla</td>\n",
       "      <td>0</td>\n",
       "      <td>2</td>\n",
       "      <td>2</td>\n",
       "      <td>2</td>\n",
       "      <td>left</td>\n",
       "      <td>1</td>\n",
       "      <td>0.600392</td>\n",
       "      <td>2016_Feb_02_1234</td>\n",
       "      <td>60.205465</td>\n",
       "      <td>visneuro</td>\n",
       "      <td>1</td>\n",
       "      <td>tf1</td>\n",
       "    </tr>\n",
       "    <tr>\n",
       "      <th>3</th>\n",
       "      <td>up</td>\n",
       "      <td>images/santa_hog.jpeg</td>\n",
       "      <td>hog</td>\n",
       "      <td>0</td>\n",
       "      <td>3</td>\n",
       "      <td>3</td>\n",
       "      <td>9</td>\n",
       "      <td>up</td>\n",
       "      <td>1</td>\n",
       "      <td>0.600248</td>\n",
       "      <td>2016_Feb_02_1234</td>\n",
       "      <td>60.205465</td>\n",
       "      <td>visneuro</td>\n",
       "      <td>1</td>\n",
       "      <td>tf1</td>\n",
       "    </tr>\n",
       "    <tr>\n",
       "      <th>4</th>\n",
       "      <td>right</td>\n",
       "      <td>images/ear_muffs_cat.jpeg</td>\n",
       "      <td>cat</td>\n",
       "      <td>0</td>\n",
       "      <td>4</td>\n",
       "      <td>4</td>\n",
       "      <td>4</td>\n",
       "      <td>right</td>\n",
       "      <td>1</td>\n",
       "      <td>0.749853</td>\n",
       "      <td>2016_Feb_02_1234</td>\n",
       "      <td>60.205465</td>\n",
       "      <td>visneuro</td>\n",
       "      <td>1</td>\n",
       "      <td>tf1</td>\n",
       "    </tr>\n",
       "    <tr>\n",
       "      <th>5</th>\n",
       "      <td>up</td>\n",
       "      <td>images/marshmallow_hog.jpeg</td>\n",
       "      <td>hog</td>\n",
       "      <td>0</td>\n",
       "      <td>5</td>\n",
       "      <td>5</td>\n",
       "      <td>8</td>\n",
       "      <td>up</td>\n",
       "      <td>1</td>\n",
       "      <td>0.766511</td>\n",
       "      <td>2016_Feb_02_1234</td>\n",
       "      <td>60.205465</td>\n",
       "      <td>visneuro</td>\n",
       "      <td>1</td>\n",
       "      <td>tf1</td>\n",
       "    </tr>\n",
       "  </tbody>\n",
       "</table>\n",
       "</div>"
      ],
      "text/plain": [
       "  correct_ans                       images type_of_image  loop.thisRepN  \\\n",
       "1       right         images/cat_eyes.jpeg           cat              0   \n",
       "2        left   images/gorilla_tongue.jpeg       gorilla              0   \n",
       "3          up        images/santa_hog.jpeg           hog              0   \n",
       "4       right    images/ear_muffs_cat.jpeg           cat              0   \n",
       "5          up  images/marshmallow_hog.jpeg           hog              0   \n",
       "\n",
       "   loop.thisTrialN  loop.thisN  loop.thisIndex key_resp_3.keys  \\\n",
       "1                1           1               3           right   \n",
       "2                2           2               2            left   \n",
       "3                3           3               9              up   \n",
       "4                4           4               4           right   \n",
       "5                5           5               8              up   \n",
       "\n",
       "   key_resp_3.corr  key_resp_3.rt              date  frameRate   expName  \\\n",
       "1                1       0.550386  2016_Feb_02_1234  60.205465  visneuro   \n",
       "2                1       0.600392  2016_Feb_02_1234  60.205465  visneuro   \n",
       "3                1       0.600248  2016_Feb_02_1234  60.205465  visneuro   \n",
       "4                1       0.749853  2016_Feb_02_1234  60.205465  visneuro   \n",
       "5                1       0.766511  2016_Feb_02_1234  60.205465  visneuro   \n",
       "\n",
       "   session participant  \n",
       "1        1         tf1  \n",
       "2        1         tf1  \n",
       "3        1         tf1  \n",
       "4        1         tf1  \n",
       "5        1         tf1  "
      ]
     },
     "execution_count": 6,
     "metadata": {},
     "output_type": "execute_result"
    }
   ],
   "source": [
    "# drop all colums with NA's\n",
    "df.dropna(axis=1, inplace=True, how='all')\n",
    "df.head()"
   ]
  },
  {
   "cell_type": "code",
   "execution_count": 7,
   "metadata": {
    "collapsed": true
   },
   "outputs": [],
   "source": [
    "# save out new dataframe as csv\n",
    "df.to_csv('data/ID001.csv', index=False)\n",
    "\n",
    "# to read back in you can use:\n",
    "#df = pd.read_csv('data/ID001.csv')"
   ]
  },
  {
   "cell_type": "markdown",
   "metadata": {},
   "source": [
    "----------\n",
    "\n",
    "# Visualising the data\n",
    "-----------\n",
    "\n",
    "**Now that we have cleaned the data, it might be helpful to visualise it.  \n",
    "To do this we need to import some packages. **\n",
    "\n",
    "**Matplotlib** is a Python library that produces quality figures and graphs from data.  \n",
    "**Seaborn** is a Python library based on matplotlib, which provides additional graphical modifications for matplotlib figures and graphs.\n",
    "\n",
    "-------------"
   ]
  },
  {
   "cell_type": "code",
   "execution_count": 8,
   "metadata": {
    "collapsed": true
   },
   "outputs": [],
   "source": [
    "import matplotlib as mpl\n",
    "import matplotlib.pyplot as plt\n",
    "import seaborn as sns # seaborn \n",
    "\n",
    "# to see the plots in the workspace we use:\n",
    "%matplotlib inline\n",
    "\n",
    "# these are seaborn commands, they are used for asthetics\n",
    "sns.set_color_codes()\n",
    "sns.set_style('whitegrid')"
   ]
  },
  {
   "cell_type": "markdown",
   "metadata": {},
   "source": [
    "-------------\n",
    "Create a basic plot of all the columns\n",
    "\n",
    "-------------"
   ]
  },
  {
   "cell_type": "code",
   "execution_count": 9,
   "metadata": {
    "collapsed": false
   },
   "outputs": [
    {
     "data": {
      "text/plain": [
       "<matplotlib.axes._subplots.AxesSubplot at 0x109768b50>"
      ]
     },
     "execution_count": 9,
     "metadata": {},
     "output_type": "execute_result"
    },
    {
     "data": {
      "image/png": "[encoded data removed]",
      "text/plain": [
       "<matplotlib.figure.Figure at 0x1061e6cd0>"
      ]
     },
     "metadata": {},
     "output_type": "display_data"
    }
   ],
   "source": [
    "df.plot()"
   ]
  },
  {
   "cell_type": "markdown",
   "metadata": {},
   "source": [
    "-------------\n",
    "The plot is good, but it doesn't actually tell us much.  \n",
    "Let's used the package matplotlib.pyplot ('plt'), but first, find out what the function 'plot' in the package does.\n",
    "\n",
    "-------------"
   ]
  },
  {
   "cell_type": "code",
   "execution_count": 10,
   "metadata": {
    "collapsed": true
   },
   "outputs": [],
   "source": [
    "plt.plot?"
   ]
  },
  {
   "cell_type": "markdown",
   "metadata": {},
   "source": [
    "-------------\n",
    "To plot a single column (e.g. reaction time), enter the name of the column (the header) as a **string** in square brackets immediately following the dataframe label as shown below. The column header is the 'index' for that column. In this example, the plot will include the legend.\n",
    "\n",
    "-------------"
   ]
  },
  {
   "cell_type": "code",
   "execution_count": 12,
   "metadata": {
    "collapsed": false
   },
   "outputs": [
    {
     "data": {
      "text/plain": [
       "<matplotlib.axes._subplots.AxesSubplot at 0x109d68cd0>"
      ]
     },
     "execution_count": 12,
     "metadata": {},
     "output_type": "execute_result"
    },
    {
     "data": {
      "image/png": "[encoded data removed]",
      "text/plain": [
       "<matplotlib.figure.Figure at 0x109d68e50>"
      ]
     },
     "metadata": {},
     "output_type": "display_data"
    }
   ],
   "source": [
    "df['key_resp_3.rt'].plot(legend=True)"
   ]
  },
  {
   "cell_type": "markdown",
   "metadata": {},
   "source": [
    "-------------\n",
    "Seaborn (sns) has a nice distribution plot to visualise whether the responses are normally disributed.\n",
    "\n",
    "-------------"
   ]
  },
  {
   "cell_type": "code",
   "execution_count": 14,
   "metadata": {
    "collapsed": false
   },
   "outputs": [
    {
     "data": {
      "text/plain": [
       "<matplotlib.axes._subplots.AxesSubplot at 0x109d9de10>"
      ]
     },
     "execution_count": 14,
     "metadata": {},
     "output_type": "execute_result"
    },
    {
     "data": {
      "image/png": "[encoded data removed]",
      "text/plain": [
       "<matplotlib.figure.Figure at 0x109db7910>"
      ]
     },
     "metadata": {},
     "output_type": "display_data"
    }
   ],
   "source": [
    "sns.distplot(df['key_resp_3.rt'])"
   ]
  },
  {
   "cell_type": "markdown",
   "metadata": {},
   "source": [
    "-------------\n",
    "It is clear from the graphs that the first answer is much longer than the rest of the answers. This is more likely due to it being the first response and therefore it isn't real data. We should filter it out so it doesn't overly affect the result.\n",
    "\n",
    "-------------"
   ]
  },
  {
   "cell_type": "code",
   "execution_count": 16,
   "metadata": {
    "collapsed": false
   },
   "outputs": [],
   "source": [
    "df_clean = df[df['key_resp_3.rt'] < .9]"
   ]
  },
  {
   "cell_type": "code",
   "execution_count": 18,
   "metadata": {
    "collapsed": false
   },
   "outputs": [
    {
     "data": {
      "text/plain": [
       "<matplotlib.axes._subplots.AxesSubplot at 0x109e5f650>"
      ]
     },
     "execution_count": 18,
     "metadata": {},
     "output_type": "execute_result"
    },
    {
     "data": {
      "image/png": "[encoded data removed]",
      "text/plain": [
       "<matplotlib.figure.Figure at 0x109df8210>"
      ]
     },
     "metadata": {},
     "output_type": "display_data"
    }
   ],
   "source": [
    "sns.distplot(df_clean['key_resp_3.rt'])"
   ]
  },
  {
   "cell_type": "markdown",
   "metadata": {},
   "source": [
    "----------\n",
    "\n",
    "It's still not looking particularly normal but better. Maybe less than 0.3 would be better still...  \n",
    "\n",
    "We can plot the reaction time by the type of image by including the column name 'type_of_image' in parentheses before the index.\n",
    "\n",
    "---------"
   ]
  },
  {
   "cell_type": "code",
   "execution_count": 19,
   "metadata": {
    "collapsed": false
   },
   "outputs": [
    {
     "data": {
      "text/plain": [
       "type_of_image\n",
       "cat        Axes(0.125,0.125;0.775x0.775)\n",
       "gorilla    Axes(0.125,0.125;0.775x0.775)\n",
       "hog        Axes(0.125,0.125;0.775x0.775)\n",
       "Name: key_resp_3.rt, dtype: object"
      ]
     },
     "execution_count": 19,
     "metadata": {},
     "output_type": "execute_result"
    },
    {
     "data": {
      "image/png": "[encoded data removed]",
      "text/plain": [
       "<matplotlib.figure.Figure at 0x10a1e7510>"
      ]
     },
     "metadata": {},
     "output_type": "display_data"
    }
   ],
   "source": [
    "df_clean.groupby('type_of_image')['key_resp_3.rt'].plot(legend=True)"
   ]
  },
  {
   "cell_type": "markdown",
   "metadata": {},
   "source": [
    "--------\n",
    "Creating a variable that groups reation time by the animal type gives some more functionality\n",
    "\n",
    "------"
   ]
  },
  {
   "cell_type": "code",
   "execution_count": 21,
   "metadata": {
    "collapsed": false
   },
   "outputs": [],
   "source": [
    "animal_type_group = df_clean.groupby('type_of_image')['key_resp_3.rt']"
   ]
  },
  {
   "cell_type": "code",
   "execution_count": 44,
   "metadata": {
    "collapsed": false
   },
   "outputs": [
    {
     "data": {
      "text/plain": [
       "type_of_image\n",
       "cat        Axes(0.125,0.125;0.775x0.775)\n",
       "gorilla    Axes(0.125,0.125;0.775x0.775)\n",
       "hog        Axes(0.125,0.125;0.775x0.775)\n",
       "Name: key_resp_4.rt, dtype: object"
      ]
     },
     "execution_count": 44,
     "metadata": {},
     "output_type": "execute_result"
    },
    {
     "data": {
      "image/png": "[encoded data removed]",
      "text/plain": [
       "<matplotlib.figure.Figure at 0x10f5404d0>"
      ]
     },
     "metadata": {},
     "output_type": "display_data"
    }
   ],
   "source": [
    "# then we can plot that variable\n",
    "animal_type_group.plot(legend = True)"
   ]
  },
  {
   "cell_type": "markdown",
   "metadata": {},
   "source": [
    "-------\n",
    "This doesn't tell us much, but we can now print out the statistics for that variable.\n",
    "\n",
    "------"
   ]
  },
  {
   "cell_type": "code",
   "execution_count": 22,
   "metadata": {
    "collapsed": false
   },
   "outputs": [
    {
     "data": {
      "text/plain": [
       "type_of_image\n",
       "cat        0.653995\n",
       "gorilla    0.639744\n",
       "hog        0.634237\n",
       "Name: key_resp_3.rt, dtype: float64"
      ]
     },
     "execution_count": 22,
     "metadata": {},
     "output_type": "execute_result"
    }
   ],
   "source": [
    "animal_type_group.mean()"
   ]
  },
  {
   "cell_type": "code",
   "execution_count": 23,
   "metadata": {
    "collapsed": false
   },
   "outputs": [
    {
     "name": "stdout",
     "output_type": "stream",
     "text": [
      "('Mean: ', type_of_image\n",
      "cat        0.653995\n",
      "gorilla    0.639744\n",
      "hog        0.634237\n",
      "Name: key_resp_3.rt, dtype: float64)\n",
      "('SD: ', type_of_image\n",
      "cat        0.084515\n",
      "gorilla    0.068218\n",
      "hog        0.086569\n",
      "Name: key_resp_3.rt, dtype: float64)\n"
     ]
    }
   ],
   "source": [
    "print('Mean: ',animal_type_group.mean())\n",
    "print('SD: ',animal_type_group.std())"
   ]
  },
  {
   "cell_type": "markdown",
   "metadata": {},
   "source": [
    "-------\n",
    "We can also visualise the reaction time by the type of image as a boxplot\n",
    "\n",
    "------"
   ]
  },
  {
   "cell_type": "code",
   "execution_count": 25,
   "metadata": {
    "collapsed": false
   },
   "outputs": [
    {
     "data": {
      "text/plain": [
       "<matplotlib.axes._subplots.AxesSubplot at 0x10a165690>"
      ]
     },
     "execution_count": 25,
     "metadata": {},
     "output_type": "execute_result"
    },
    {
     "data": {
      "image/png": "[encoded data removed]",
      "text/plain": [
       "<matplotlib.figure.Figure at 0x10a450510>"
      ]
     },
     "metadata": {},
     "output_type": "display_data"
    }
   ],
   "source": [
    "df_clean.boxplot('key_resp_3.rt',by = 'type_of_image',)"
   ]
  },
  {
   "cell_type": "markdown",
   "metadata": {},
   "source": [
    "-------\n",
    "and save plot to the current working directory\n",
    "\n",
    "------"
   ]
  },
  {
   "cell_type": "code",
   "execution_count": 26,
   "metadata": {
    "collapsed": false
   },
   "outputs": [
    {
     "data": {
      "text/plain": [
       "<matplotlib.figure.Figure at 0x10a87a390>"
      ]
     },
     "metadata": {},
     "output_type": "display_data"
    }
   ],
   "source": [
    "plt.savefig('ID001_boxplot.png')"
   ]
  },
  {
   "cell_type": "code",
   "execution_count": null,
   "metadata": {
    "collapsed": true
   },
   "outputs": [],
   "source": []
  }
 ],
 "metadata": {
  "kernelspec": {
   "display_name": "Python 2",
   "language": "python",
   "name": "python2"
  },
  "language_info": {
   "codemirror_mode": {
    "name": "ipython",
    "version": 2
   },
   "file_extension": ".py",
   "mimetype": "text/x-python",
   "name": "python",
   "nbconvert_exporter": "python",
   "pygments_lexer": "ipython2",
   "version": "2.7.11"
  }
 },
 "nbformat": 4,
 "nbformat_minor": 0
}
