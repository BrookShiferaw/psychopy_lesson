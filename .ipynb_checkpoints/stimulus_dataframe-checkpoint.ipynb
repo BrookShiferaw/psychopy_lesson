{
 "cells": [
  {
   "cell_type": "code",
   "execution_count": 2,
   "metadata": {
    "collapsed": true
   },
   "outputs": [],
   "source": [
    "import pandas as pd\n",
    "import glob"
   ]
  },
  {
   "cell_type": "code",
   "execution_count": 3,
   "metadata": {
    "collapsed": false
   },
   "outputs": [
    {
     "data": {
      "text/plain": [
       "'/Users/talithaford/Desktop/TalithasFiles/NeuralCodeTF/visneuro'"
      ]
     },
     "execution_count": 3,
     "metadata": {},
     "output_type": "execute_result"
    }
   ],
   "source": [
    "pwd"
   ]
  },
  {
   "cell_type": "code",
   "execution_count": 43,
   "metadata": {
    "collapsed": false
   },
   "outputs": [
    {
     "name": "stdout",
     "output_type": "stream",
     "text": [
      "['cat_eyes.jpeg', 'ear_muffs_cat.jpeg', 'egg_hog.jpeg', 'gorilla_face.jpeg', 'gorilla_fat.jpeg', 'gorilla_tongue.jpeg', 'icecream_hog.jpeg', 'marshmallow_hog.jpeg', 'rat_cat.jpeg', 'santa_hog.jpeg']\n"
     ]
    }
   ],
   "source": [
    "jpegs = glob.glob('*.jpeg')\n",
    "print(jpegs)"
   ]
  },
  {
   "cell_type": "code",
   "execution_count": 1,
   "metadata": {
    "collapsed": false
   },
   "outputs": [
    {
     "ename": "NameError",
     "evalue": "name 'jpegs' is not defined",
     "output_type": "error",
     "traceback": [
      "\u001b[0;31m---------------------------------------------------------------------------\u001b[0m",
      "\u001b[0;31mNameError\u001b[0m                                 Traceback (most recent call last)",
      "\u001b[0;32m<ipython-input-1-c76d187a0e09>\u001b[0m in \u001b[0;36m<module>\u001b[0;34m()\u001b[0m\n\u001b[1;32m      1\u001b[0m \u001b[0mpics\u001b[0m \u001b[0;34m=\u001b[0m \u001b[0;34m[\u001b[0m\u001b[0;34m]\u001b[0m\u001b[0;34m\u001b[0m\u001b[0m\n\u001b[0;32m----> 2\u001b[0;31m \u001b[0;32mfor\u001b[0m \u001b[0mp\u001b[0m \u001b[0;32min\u001b[0m \u001b[0mjpegs\u001b[0m\u001b[0;34m:\u001b[0m\u001b[0;34m\u001b[0m\u001b[0m\n\u001b[0m\u001b[1;32m      3\u001b[0m     \u001b[0mpics\u001b[0m\u001b[0;34m.\u001b[0m\u001b[0mappend\u001b[0m\u001b[0;34m(\u001b[0m\u001b[0;34m'images/'\u001b[0m\u001b[0;34m+\u001b[0m\u001b[0mp\u001b[0m\u001b[0;34m)\u001b[0m\u001b[0;34m\u001b[0m\u001b[0m\n\u001b[1;32m      4\u001b[0m \u001b[0mprint\u001b[0m\u001b[0;34m(\u001b[0m\u001b[0mpics\u001b[0m\u001b[0;34m)\u001b[0m\u001b[0;34m\u001b[0m\u001b[0m\n",
      "\u001b[0;31mNameError\u001b[0m: name 'jpegs' is not defined"
     ]
    }
   ],
   "source": [
    "pics = []\n",
    "for p in jpegs:\n",
    "    pics.append('images/'+p)\n",
    "print(pics)"
   ]
  },
  {
   "cell_type": "code",
   "execution_count": 44,
   "metadata": {
    "collapsed": false
   },
   "outputs": [
    {
     "name": "stdout",
     "output_type": "stream",
     "text": [
      "['images/gorilla_face.jpeg', 'images/gorilla_fat.jpeg', 'images/gorilla_tongue.jpeg']\n",
      "['images/cat_eyes.jpeg', 'images/ear_muffs_cat.jpeg', 'images/rat_cat.jpeg']\n",
      "['images/egg_hog.jpeg', 'images/icecream_hog.jpeg', 'images/marshmallow_hog.jpeg', 'images/santa_hog.jpeg']\n"
     ]
    }
   ],
   "source": [
    "gorilla = []\n",
    "cat = []\n",
    "hog = []\n",
    "\n",
    "for p in pics:\n",
    "    if 'gorilla' in p:\n",
    "        gorilla.append(p)\n",
    "    elif 'cat' in p:\n",
    "        cat.append(p)\n",
    "    else:\n",
    "        hog.append(p)\n",
    "\n",
    "print(gorilla)\n",
    "print(cat)\n",
    "print(hog)"
   ]
  },
  {
   "cell_type": "code",
   "execution_count": 40,
   "metadata": {
    "collapsed": false
   },
   "outputs": [],
   "source": [
    "datafile = pd.DataFrame({'images':gorilla+cat+hog,'correct_ans':(['left']*len(gorilla))+(['right']*len(cat))+(['up']*len(hog))})"
   ]
  },
  {
   "cell_type": "code",
   "execution_count": 41,
   "metadata": {
    "collapsed": true
   },
   "outputs": [],
   "source": [
    "datafile.to_excel('datafile.xlsx', index=False)"
   ]
  },
  {
   "cell_type": "code",
   "execution_count": 42,
   "metadata": {
    "collapsed": false
   },
   "outputs": [
    {
     "name": "stdout",
     "output_type": "stream",
     "text": [
      "\u001b[31mcat_eyes.jpeg\u001b[m\u001b[m*            \u001b[31mgorilla_face.jpeg\u001b[m\u001b[m*        \u001b[31mmarshmallow_hog.jpeg\u001b[m\u001b[m*\r\n",
      "datafile.xlsx             \u001b[31mgorilla_fat.jpeg\u001b[m\u001b[m*         \u001b[31mrat_cat.jpeg\u001b[m\u001b[m*\r\n",
      "\u001b[31mear_muffs_cat.jpeg\u001b[m\u001b[m*       \u001b[31mgorilla_tongue.jpeg\u001b[m\u001b[m*      \u001b[31msanta_hog.jpeg\u001b[m\u001b[m*\r\n",
      "\u001b[31megg_hog.jpeg\u001b[m\u001b[m*             \u001b[31micecream_hog.jpeg\u001b[m\u001b[m*        stimulus_dataframe.ipynb\r\n"
     ]
    }
   ],
   "source": [
    "ls"
   ]
  },
  {
   "cell_type": "code",
   "execution_count": null,
   "metadata": {
    "collapsed": true
   },
   "outputs": [],
   "source": []
  }
 ],
 "metadata": {
  "kernelspec": {
   "display_name": "Python 3",
   "language": "python",
   "name": "python3"
  },
  "language_info": {
   "codemirror_mode": {
    "name": "ipython",
    "version": 3
   },
   "file_extension": ".py",
   "mimetype": "text/x-python",
   "name": "python",
   "nbconvert_exporter": "python",
   "pygments_lexer": "ipython3",
   "version": "3.4.3"
  }
 },
 "nbformat": 4,
 "nbformat_minor": 0
}
