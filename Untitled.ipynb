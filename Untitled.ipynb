{
 "cells": [
  {
   "cell_type": "code",
   "execution_count": 3,
   "metadata": {
    "collapsed": true
   },
   "outputs": [],
   "source": [
    "import numpy as np\n",
    "import pandas as pd\n",
    "import glob"
   ]
  },
  {
   "cell_type": "code",
   "execution_count": null,
   "metadata": {
    "collapsed": false
   },
   "outputs": [],
   "source": []
  },
  {
   "cell_type": "code",
   "execution_count": 16,
   "metadata": {
    "collapsed": false
   },
   "outputs": [],
   "source": [
    "data_lst = glob.glob('data/psychopy_TF_visneuro_2016_Feb_02_*.csv')"
   ]
  },
  {
   "cell_type": "code",
   "execution_count": 17,
   "metadata": {
    "collapsed": false
   },
   "outputs": [
    {
     "data": {
      "text/plain": [
       "['data/psychopy_TF_visneuro_2016_Feb_02_1106.csv']"
      ]
     },
     "execution_count": 17,
     "metadata": {},
     "output_type": "execute_result"
    }
   ],
   "source": [
    "data_lst\n",
    "data = "
   ]
  },
  {
   "cell_type": "code",
   "execution_count": 21,
   "metadata": {
    "collapsed": false
   },
   "outputs": [
    {
     "name": "stdout",
     "output_type": "stream",
     "text": [
      "(50, 15)\n"
     ]
    }
   ],
   "source": [
    "for i in data_lst:\n",
    "    data = pd.read_csv(i)\n",
    "    print data.shape"
   ]
  },
  {
   "cell_type": "code",
   "execution_count": 22,
   "metadata": {
    "collapsed": false
   },
   "outputs": [],
   "source": [
    "data_lst = glob.glob('data/psychopy_TF_visneuro_2016_Feb_02_*.csv')\n",
    "frame = pd.DataFrame()\n",
    "all_data = []\n",
    "for data in data_lst:\n",
    "    if not data.shape == (50,15):\n",
    "        continue\n",
    "    \n",
    "    df = pd.read_csv(data,index_col=None, header=0)\n",
    "    all_data.append(df)\n",
    "frame = pd.concat(all_data)"
   ]
  },
  {
   "cell_type": "code",
   "execution_count": 30,
   "metadata": {
    "collapsed": false
   },
   "outputs": [],
   "source": [
    "new_frame = frame.rename(columns={'key_resp_3.keys':'key_resp.keys'})"
   ]
  },
  {
   "cell_type": "code",
   "execution_count": null,
   "metadata": {
    "collapsed": true
   },
   "outputs": [],
   "source": [
    "df.columns = ['correct_ans',\n",
    " 'images',\n",
    " 'type_of_image',\n",
    " 'loop.thisRepN',\n",
    " 'loop.thisTrialN',\n",
    " 'loop.thisN',\n",
    " 'loop.thisIndex',\n",
    " 'key_resp.keys',\n",
    " 'key_resp.rt',\n",
    " 'date',\n",
    " 'frameRate',\n",
    " 'expName',\n",
    " 'session',\n",
    " 'participant',\n",
    " 'Unnamed: 14']"
   ]
  },
  {
   "cell_type": "code",
   "execution_count": 33,
   "metadata": {
    "collapsed": false
   },
   "outputs": [
    {
     "data": {
      "text/plain": [
       "['correct_ans',\n",
       " 'images',\n",
       " 'type_of_image',\n",
       " 'loop.thisRepN',\n",
       " 'loop.thisTrialN',\n",
       " 'loop.thisN',\n",
       " 'loop.thisIndex',\n",
       " 'key_resp_3.keys',\n",
       " 'key_resp_3.rt',\n",
       " 'date',\n",
       " 'frameRate',\n",
       " 'expName',\n",
       " 'session',\n",
       " 'participant',\n",
       " 'Unnamed: 14']"
      ]
     },
     "execution_count": 33,
     "metadata": {},
     "output_type": "execute_result"
    }
   ],
   "source": [
    "list(frame.columns.values)"
   ]
  },
  {
   "cell_type": "code",
   "execution_count": null,
   "metadata": {
    "collapsed": true
   },
   "outputs": [],
   "source": []
  }
 ],
 "metadata": {
  "kernelspec": {
   "display_name": "Python 2",
   "language": "python",
   "name": "python2"
  },
  "language_info": {
   "codemirror_mode": {
    "name": "ipython",
    "version": 2
   },
   "file_extension": ".py",
   "mimetype": "text/x-python",
   "name": "python",
   "nbconvert_exporter": "python",
   "pygments_lexer": "ipython2",
   "version": "2.7.10"
  }
 },
 "nbformat": 4,
 "nbformat_minor": 0
}
