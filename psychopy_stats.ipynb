{
 "cells": [
  {
   "cell_type": "markdown",
   "metadata": {},
   "source": [
    "<img src=psychopyDocBanner2.gif align=\"left\">"
   ]
  },
  {
   "cell_type": "markdown",
   "metadata": {},
   "source": [
    "### Using the Pandas library to explore the data\n",
    "###### Learning objectives:\n",
    "- Use shell commands to navigate to the data folder\n",
    "- Import Psychopy data into the Jupyter Notebook\n",
    "- Generate descriptive statistics\n",
    "- Plot some comparisons by grouping data "
   ]
  },
  {
   "cell_type": "markdown",
   "metadata": {},
   "source": [
    "----------------"
   ]
  },
  {
   "cell_type": "markdown",
   "metadata": {},
   "source": [
    "---------\n",
    "\n",
    "We will set up the notebook and load the additional software library we will need  - \"Pandas\".\n",
    "\n",
    "----------"
   ]
  },
  {
   "cell_type": "code",
   "execution_count": 1,
   "metadata": {
    "collapsed": false
   },
   "outputs": [],
   "source": [
    "import pandas as pd"
   ]
  },
  {
   "cell_type": "markdown",
   "metadata": {},
   "source": [
    "-------\n",
    "\n",
    "The Jupyter Notebook understands shell commands as well, we'll use this to find our data. We'll use the exclamation mark to signal that what follows is a shell command rather than Python code.\n",
    "\n",
    "---------"
   ]
  },
  {
   "cell_type": "code",
   "execution_count": 4,
   "metadata": {
    "collapsed": false
   },
   "outputs": [
    {
     "name": "stdout",
     "output_type": "stream",
     "text": [
      "/Users/talithaford/Desktop/TalithasFiles/NeuralCodeTF/psychopy_lesson\r\n"
     ]
    }
   ],
   "source": [
    "# print working directory \n",
    "!pwd"
   ]
  },
  {
   "cell_type": "code",
   "execution_count": 5,
   "metadata": {
    "collapsed": false
   },
   "outputs": [
    {
     "name": "stdout",
     "output_type": "stream",
     "text": [
      "001_proficient_2015_Aug_26_0844.csv\r\n",
      "001_proficient_2015_Aug_26_0844.log\r\n",
      "001_proficient_2015_Aug_26_0844.psydat\r\n",
      "001_proficient_2015_Aug_26_0856.csv\r\n",
      "001_proficient_2015_Aug_26_0856.log\r\n",
      "001_proficient_2015_Aug_26_0856.psydat\r\n",
      "001_visneuro_2015_Jul_22_0954.csv\r\n",
      "001_visneuro_2015_Jul_22_0954.log\r\n",
      "001_visneuro_2015_Jul_22_0954.psydat\r\n",
      "002_visneuro_2015_Jul_22_0956.csv\r\n",
      "002_visneuro_2015_Jul_22_0956.log\r\n",
      "002_visneuro_2015_Jul_22_0956.psydat\r\n",
      "1_proficient_2015_Aug_26_0828.csv\r\n",
      "1_proficient_2015_Aug_26_0828.log\r\n",
      "1_proficient_2015_Aug_26_0828.psydat\r\n",
      "1_proficient_2015_Aug_26_0829.csv\r\n",
      "1_proficient_2015_Aug_26_0829.log\r\n",
      "1_proficient_2015_Aug_26_0829.psydat\r\n",
      "1_proficient_bug_2015_Aug_26_0836.csv\r\n",
      "1_proficient_bug_2015_Aug_26_0836.log\r\n",
      "1_proficient_bug_2015_Aug_26_0836.psydat\r\n",
      "ID001.csv\r\n"
     ]
    }
   ],
   "source": [
    "# list files in 'data/'\n",
    "!ls data/"
   ]
  },
  {
   "cell_type": "markdown",
   "metadata": {},
   "source": [
    "--------\n",
    "\n",
    "We can use the 'read_csv' function of Pandas to read the datafile into a pandas DataFrame. A DataFrame will look familiar to anyone who has used Excel or SPSS.\n",
    "\n",
    "--------"
   ]
  },
  {
   "cell_type": "code",
   "execution_count": 13,
   "metadata": {
    "collapsed": false
   },
   "outputs": [
    {
     "data": {
      "text/html": [
       "<div>\n",
       "<table border=\"1\" class=\"dataframe\">\n",
       "  <thead>\n",
       "    <tr style=\"text-align: right;\">\n",
       "      <th></th>\n",
       "      <th>correct_ans</th>\n",
       "      <th>images</th>\n",
       "      <th>type_of_image</th>\n",
       "      <th>trials.thisRepN</th>\n",
       "      <th>trials.thisTrialN</th>\n",
       "      <th>trials.thisN</th>\n",
       "      <th>trials.thisIndex</th>\n",
       "      <th>trials_2.thisRepN</th>\n",
       "      <th>trials_2.thisTrialN</th>\n",
       "      <th>trials_2.thisN</th>\n",
       "      <th>...</th>\n",
       "      <th>key_resp_3.rt</th>\n",
       "      <th>key_resp_4.keys</th>\n",
       "      <th>key_resp_4.corr</th>\n",
       "      <th>key_resp_4.rt</th>\n",
       "      <th>date</th>\n",
       "      <th>frameRate</th>\n",
       "      <th>expName</th>\n",
       "      <th>session</th>\n",
       "      <th>participant</th>\n",
       "      <th>Unnamed: 22</th>\n",
       "    </tr>\n",
       "  </thead>\n",
       "  <tbody>\n",
       "    <tr>\n",
       "      <th>0</th>\n",
       "      <td>right</td>\n",
       "      <td>images/ear_muffs_cat.jpeg</td>\n",
       "      <td>cat</td>\n",
       "      <td>0</td>\n",
       "      <td>3</td>\n",
       "      <td>3</td>\n",
       "      <td>4</td>\n",
       "      <td>NaN</td>\n",
       "      <td>NaN</td>\n",
       "      <td>NaN</td>\n",
       "      <td>...</td>\n",
       "      <td>0.697289</td>\n",
       "      <td>NaN</td>\n",
       "      <td>NaN</td>\n",
       "      <td>NaN</td>\n",
       "      <td>2015_Aug_26_0856</td>\n",
       "      <td>60.100131</td>\n",
       "      <td>proficient</td>\n",
       "      <td>1</td>\n",
       "      <td>1</td>\n",
       "      <td>NaN</td>\n",
       "    </tr>\n",
       "    <tr>\n",
       "      <th>1</th>\n",
       "      <td>left</td>\n",
       "      <td>images/gorilla_face.jpeg</td>\n",
       "      <td>gorilla</td>\n",
       "      <td>NaN</td>\n",
       "      <td>NaN</td>\n",
       "      <td>NaN</td>\n",
       "      <td>NaN</td>\n",
       "      <td>0</td>\n",
       "      <td>0</td>\n",
       "      <td>0</td>\n",
       "      <td>...</td>\n",
       "      <td>NaN</td>\n",
       "      <td>left</td>\n",
       "      <td>1</td>\n",
       "      <td>0.836069</td>\n",
       "      <td>2015_Aug_26_0856</td>\n",
       "      <td>60.100131</td>\n",
       "      <td>proficient</td>\n",
       "      <td>1</td>\n",
       "      <td>1</td>\n",
       "      <td>NaN</td>\n",
       "    </tr>\n",
       "    <tr>\n",
       "      <th>2</th>\n",
       "      <td>right</td>\n",
       "      <td>images/ear_muffs_cat.jpeg</td>\n",
       "      <td>cat</td>\n",
       "      <td>NaN</td>\n",
       "      <td>NaN</td>\n",
       "      <td>NaN</td>\n",
       "      <td>NaN</td>\n",
       "      <td>0</td>\n",
       "      <td>1</td>\n",
       "      <td>1</td>\n",
       "      <td>...</td>\n",
       "      <td>NaN</td>\n",
       "      <td>up</td>\n",
       "      <td>0</td>\n",
       "      <td>0.194480</td>\n",
       "      <td>2015_Aug_26_0856</td>\n",
       "      <td>60.100131</td>\n",
       "      <td>proficient</td>\n",
       "      <td>1</td>\n",
       "      <td>1</td>\n",
       "      <td>NaN</td>\n",
       "    </tr>\n",
       "    <tr>\n",
       "      <th>3</th>\n",
       "      <td>up</td>\n",
       "      <td>images/icecream_hog.jpeg</td>\n",
       "      <td>hog</td>\n",
       "      <td>NaN</td>\n",
       "      <td>NaN</td>\n",
       "      <td>NaN</td>\n",
       "      <td>NaN</td>\n",
       "      <td>0</td>\n",
       "      <td>2</td>\n",
       "      <td>2</td>\n",
       "      <td>...</td>\n",
       "      <td>NaN</td>\n",
       "      <td>right</td>\n",
       "      <td>0</td>\n",
       "      <td>0.155467</td>\n",
       "      <td>2015_Aug_26_0856</td>\n",
       "      <td>60.100131</td>\n",
       "      <td>proficient</td>\n",
       "      <td>1</td>\n",
       "      <td>1</td>\n",
       "      <td>NaN</td>\n",
       "    </tr>\n",
       "    <tr>\n",
       "      <th>4</th>\n",
       "      <td>left</td>\n",
       "      <td>images/gorilla_fat.jpeg</td>\n",
       "      <td>gorilla</td>\n",
       "      <td>NaN</td>\n",
       "      <td>NaN</td>\n",
       "      <td>NaN</td>\n",
       "      <td>NaN</td>\n",
       "      <td>0</td>\n",
       "      <td>3</td>\n",
       "      <td>3</td>\n",
       "      <td>...</td>\n",
       "      <td>NaN</td>\n",
       "      <td>left</td>\n",
       "      <td>1</td>\n",
       "      <td>0.110976</td>\n",
       "      <td>2015_Aug_26_0856</td>\n",
       "      <td>60.100131</td>\n",
       "      <td>proficient</td>\n",
       "      <td>1</td>\n",
       "      <td>1</td>\n",
       "      <td>NaN</td>\n",
       "    </tr>\n",
       "  </tbody>\n",
       "</table>\n",
       "<p>5 rows × 23 columns</p>\n",
       "</div>"
      ],
      "text/plain": [
       "  correct_ans                     images type_of_image  trials.thisRepN  \\\n",
       "0       right  images/ear_muffs_cat.jpeg           cat                0   \n",
       "1        left   images/gorilla_face.jpeg       gorilla              NaN   \n",
       "2       right  images/ear_muffs_cat.jpeg           cat              NaN   \n",
       "3          up   images/icecream_hog.jpeg           hog              NaN   \n",
       "4        left    images/gorilla_fat.jpeg       gorilla              NaN   \n",
       "\n",
       "   trials.thisTrialN  trials.thisN  trials.thisIndex  trials_2.thisRepN  \\\n",
       "0                  3             3                 4                NaN   \n",
       "1                NaN           NaN               NaN                  0   \n",
       "2                NaN           NaN               NaN                  0   \n",
       "3                NaN           NaN               NaN                  0   \n",
       "4                NaN           NaN               NaN                  0   \n",
       "\n",
       "   trials_2.thisTrialN  trials_2.thisN     ...      key_resp_3.rt  \\\n",
       "0                  NaN             NaN     ...           0.697289   \n",
       "1                    0               0     ...                NaN   \n",
       "2                    1               1     ...                NaN   \n",
       "3                    2               2     ...                NaN   \n",
       "4                    3               3     ...                NaN   \n",
       "\n",
       "  key_resp_4.keys  key_resp_4.corr  key_resp_4.rt              date  \\\n",
       "0             NaN              NaN            NaN  2015_Aug_26_0856   \n",
       "1            left                1       0.836069  2015_Aug_26_0856   \n",
       "2              up                0       0.194480  2015_Aug_26_0856   \n",
       "3           right                0       0.155467  2015_Aug_26_0856   \n",
       "4            left                1       0.110976  2015_Aug_26_0856   \n",
       "\n",
       "   frameRate     expName session  participant Unnamed: 22  \n",
       "0  60.100131  proficient       1            1         NaN  \n",
       "1  60.100131  proficient       1            1         NaN  \n",
       "2  60.100131  proficient       1            1         NaN  \n",
       "3  60.100131  proficient       1            1         NaN  \n",
       "4  60.100131  proficient       1            1         NaN  \n",
       "\n",
       "[5 rows x 23 columns]"
      ]
     },
     "execution_count": 13,
     "metadata": {},
     "output_type": "execute_result"
    }
   ],
   "source": [
    "# read the csv\n",
    "df = pd.read_csv('data/001_proficient_2015_Aug_26_0856.csv')\n",
    "# print the first 5 lines of the DataFrame\n",
    "df.head()"
   ]
  },
  {
   "cell_type": "code",
   "execution_count": 14,
   "metadata": {
    "collapsed": false
   },
   "outputs": [
    {
     "data": {
      "text/html": [
       "<div>\n",
       "<table border=\"1\" class=\"dataframe\">\n",
       "  <thead>\n",
       "    <tr style=\"text-align: right;\">\n",
       "      <th></th>\n",
       "      <th>correct_ans</th>\n",
       "      <th>images</th>\n",
       "      <th>type_of_image</th>\n",
       "      <th>trials.thisRepN</th>\n",
       "      <th>trials.thisTrialN</th>\n",
       "      <th>trials.thisN</th>\n",
       "      <th>trials.thisIndex</th>\n",
       "      <th>trials_2.thisRepN</th>\n",
       "      <th>trials_2.thisTrialN</th>\n",
       "      <th>trials_2.thisN</th>\n",
       "      <th>...</th>\n",
       "      <th>key_resp_3.rt</th>\n",
       "      <th>key_resp_4.keys</th>\n",
       "      <th>key_resp_4.corr</th>\n",
       "      <th>key_resp_4.rt</th>\n",
       "      <th>date</th>\n",
       "      <th>frameRate</th>\n",
       "      <th>expName</th>\n",
       "      <th>session</th>\n",
       "      <th>participant</th>\n",
       "      <th>Unnamed: 22</th>\n",
       "    </tr>\n",
       "  </thead>\n",
       "  <tbody>\n",
       "    <tr>\n",
       "      <th>1</th>\n",
       "      <td>left</td>\n",
       "      <td>images/gorilla_face.jpeg</td>\n",
       "      <td>gorilla</td>\n",
       "      <td>NaN</td>\n",
       "      <td>NaN</td>\n",
       "      <td>NaN</td>\n",
       "      <td>NaN</td>\n",
       "      <td>0</td>\n",
       "      <td>0</td>\n",
       "      <td>0</td>\n",
       "      <td>...</td>\n",
       "      <td>NaN</td>\n",
       "      <td>left</td>\n",
       "      <td>1</td>\n",
       "      <td>0.836069</td>\n",
       "      <td>2015_Aug_26_0856</td>\n",
       "      <td>60.100131</td>\n",
       "      <td>proficient</td>\n",
       "      <td>1</td>\n",
       "      <td>1</td>\n",
       "      <td>NaN</td>\n",
       "    </tr>\n",
       "    <tr>\n",
       "      <th>2</th>\n",
       "      <td>right</td>\n",
       "      <td>images/ear_muffs_cat.jpeg</td>\n",
       "      <td>cat</td>\n",
       "      <td>NaN</td>\n",
       "      <td>NaN</td>\n",
       "      <td>NaN</td>\n",
       "      <td>NaN</td>\n",
       "      <td>0</td>\n",
       "      <td>1</td>\n",
       "      <td>1</td>\n",
       "      <td>...</td>\n",
       "      <td>NaN</td>\n",
       "      <td>up</td>\n",
       "      <td>0</td>\n",
       "      <td>0.194480</td>\n",
       "      <td>2015_Aug_26_0856</td>\n",
       "      <td>60.100131</td>\n",
       "      <td>proficient</td>\n",
       "      <td>1</td>\n",
       "      <td>1</td>\n",
       "      <td>NaN</td>\n",
       "    </tr>\n",
       "    <tr>\n",
       "      <th>3</th>\n",
       "      <td>up</td>\n",
       "      <td>images/icecream_hog.jpeg</td>\n",
       "      <td>hog</td>\n",
       "      <td>NaN</td>\n",
       "      <td>NaN</td>\n",
       "      <td>NaN</td>\n",
       "      <td>NaN</td>\n",
       "      <td>0</td>\n",
       "      <td>2</td>\n",
       "      <td>2</td>\n",
       "      <td>...</td>\n",
       "      <td>NaN</td>\n",
       "      <td>right</td>\n",
       "      <td>0</td>\n",
       "      <td>0.155467</td>\n",
       "      <td>2015_Aug_26_0856</td>\n",
       "      <td>60.100131</td>\n",
       "      <td>proficient</td>\n",
       "      <td>1</td>\n",
       "      <td>1</td>\n",
       "      <td>NaN</td>\n",
       "    </tr>\n",
       "    <tr>\n",
       "      <th>4</th>\n",
       "      <td>left</td>\n",
       "      <td>images/gorilla_fat.jpeg</td>\n",
       "      <td>gorilla</td>\n",
       "      <td>NaN</td>\n",
       "      <td>NaN</td>\n",
       "      <td>NaN</td>\n",
       "      <td>NaN</td>\n",
       "      <td>0</td>\n",
       "      <td>3</td>\n",
       "      <td>3</td>\n",
       "      <td>...</td>\n",
       "      <td>NaN</td>\n",
       "      <td>left</td>\n",
       "      <td>1</td>\n",
       "      <td>0.110976</td>\n",
       "      <td>2015_Aug_26_0856</td>\n",
       "      <td>60.100131</td>\n",
       "      <td>proficient</td>\n",
       "      <td>1</td>\n",
       "      <td>1</td>\n",
       "      <td>NaN</td>\n",
       "    </tr>\n",
       "    <tr>\n",
       "      <th>5</th>\n",
       "      <td>right</td>\n",
       "      <td>images/cat_eyes.jpeg</td>\n",
       "      <td>cat</td>\n",
       "      <td>NaN</td>\n",
       "      <td>NaN</td>\n",
       "      <td>NaN</td>\n",
       "      <td>NaN</td>\n",
       "      <td>0</td>\n",
       "      <td>4</td>\n",
       "      <td>4</td>\n",
       "      <td>...</td>\n",
       "      <td>NaN</td>\n",
       "      <td>up</td>\n",
       "      <td>0</td>\n",
       "      <td>0.179393</td>\n",
       "      <td>2015_Aug_26_0856</td>\n",
       "      <td>60.100131</td>\n",
       "      <td>proficient</td>\n",
       "      <td>1</td>\n",
       "      <td>1</td>\n",
       "      <td>NaN</td>\n",
       "    </tr>\n",
       "  </tbody>\n",
       "</table>\n",
       "<p>5 rows × 23 columns</p>\n",
       "</div>"
      ],
      "text/plain": [
       "  correct_ans                     images type_of_image  trials.thisRepN  \\\n",
       "1        left   images/gorilla_face.jpeg       gorilla              NaN   \n",
       "2       right  images/ear_muffs_cat.jpeg           cat              NaN   \n",
       "3          up   images/icecream_hog.jpeg           hog              NaN   \n",
       "4        left    images/gorilla_fat.jpeg       gorilla              NaN   \n",
       "5       right       images/cat_eyes.jpeg           cat              NaN   \n",
       "\n",
       "   trials.thisTrialN  trials.thisN  trials.thisIndex  trials_2.thisRepN  \\\n",
       "1                NaN           NaN               NaN                  0   \n",
       "2                NaN           NaN               NaN                  0   \n",
       "3                NaN           NaN               NaN                  0   \n",
       "4                NaN           NaN               NaN                  0   \n",
       "5                NaN           NaN               NaN                  0   \n",
       "\n",
       "   trials_2.thisTrialN  trials_2.thisN     ...      key_resp_3.rt  \\\n",
       "1                    0               0     ...                NaN   \n",
       "2                    1               1     ...                NaN   \n",
       "3                    2               2     ...                NaN   \n",
       "4                    3               3     ...                NaN   \n",
       "5                    4               4     ...                NaN   \n",
       "\n",
       "  key_resp_4.keys  key_resp_4.corr  key_resp_4.rt              date  \\\n",
       "1            left                1       0.836069  2015_Aug_26_0856   \n",
       "2              up                0       0.194480  2015_Aug_26_0856   \n",
       "3           right                0       0.155467  2015_Aug_26_0856   \n",
       "4            left                1       0.110976  2015_Aug_26_0856   \n",
       "5              up                0       0.179393  2015_Aug_26_0856   \n",
       "\n",
       "   frameRate     expName session  participant Unnamed: 22  \n",
       "1  60.100131  proficient       1            1         NaN  \n",
       "2  60.100131  proficient       1            1         NaN  \n",
       "3  60.100131  proficient       1            1         NaN  \n",
       "4  60.100131  proficient       1            1         NaN  \n",
       "5  60.100131  proficient       1            1         NaN  \n",
       "\n",
       "[5 rows x 23 columns]"
      ]
     },
     "execution_count": 14,
     "metadata": {},
     "output_type": "execute_result"
    }
   ],
   "source": [
    "# drop the first row (under the header)\n",
    "# the inplace option makes sure nothing moves around after the row is dropped\n",
    "df.drop(0, inplace=True)\n",
    "df.head()"
   ]
  },
  {
   "cell_type": "code",
   "execution_count": 15,
   "metadata": {
    "collapsed": false
   },
   "outputs": [
    {
     "data": {
      "text/html": [
       "<div>\n",
       "<table border=\"1\" class=\"dataframe\">\n",
       "  <thead>\n",
       "    <tr style=\"text-align: right;\">\n",
       "      <th></th>\n",
       "      <th>correct_ans</th>\n",
       "      <th>images</th>\n",
       "      <th>type_of_image</th>\n",
       "      <th>trials_2.thisRepN</th>\n",
       "      <th>trials_2.thisTrialN</th>\n",
       "      <th>trials_2.thisN</th>\n",
       "      <th>trials_2.thisIndex</th>\n",
       "      <th>key_resp_4.keys</th>\n",
       "      <th>key_resp_4.corr</th>\n",
       "      <th>key_resp_4.rt</th>\n",
       "      <th>date</th>\n",
       "      <th>frameRate</th>\n",
       "      <th>expName</th>\n",
       "      <th>session</th>\n",
       "      <th>participant</th>\n",
       "    </tr>\n",
       "  </thead>\n",
       "  <tbody>\n",
       "    <tr>\n",
       "      <th>1</th>\n",
       "      <td>left</td>\n",
       "      <td>images/gorilla_face.jpeg</td>\n",
       "      <td>gorilla</td>\n",
       "      <td>0</td>\n",
       "      <td>0</td>\n",
       "      <td>0</td>\n",
       "      <td>0</td>\n",
       "      <td>left</td>\n",
       "      <td>1</td>\n",
       "      <td>0.836069</td>\n",
       "      <td>2015_Aug_26_0856</td>\n",
       "      <td>60.100131</td>\n",
       "      <td>proficient</td>\n",
       "      <td>1</td>\n",
       "      <td>1</td>\n",
       "    </tr>\n",
       "    <tr>\n",
       "      <th>2</th>\n",
       "      <td>right</td>\n",
       "      <td>images/ear_muffs_cat.jpeg</td>\n",
       "      <td>cat</td>\n",
       "      <td>0</td>\n",
       "      <td>1</td>\n",
       "      <td>1</td>\n",
       "      <td>4</td>\n",
       "      <td>up</td>\n",
       "      <td>0</td>\n",
       "      <td>0.194480</td>\n",
       "      <td>2015_Aug_26_0856</td>\n",
       "      <td>60.100131</td>\n",
       "      <td>proficient</td>\n",
       "      <td>1</td>\n",
       "      <td>1</td>\n",
       "    </tr>\n",
       "    <tr>\n",
       "      <th>3</th>\n",
       "      <td>up</td>\n",
       "      <td>images/icecream_hog.jpeg</td>\n",
       "      <td>hog</td>\n",
       "      <td>0</td>\n",
       "      <td>2</td>\n",
       "      <td>2</td>\n",
       "      <td>7</td>\n",
       "      <td>right</td>\n",
       "      <td>0</td>\n",
       "      <td>0.155467</td>\n",
       "      <td>2015_Aug_26_0856</td>\n",
       "      <td>60.100131</td>\n",
       "      <td>proficient</td>\n",
       "      <td>1</td>\n",
       "      <td>1</td>\n",
       "    </tr>\n",
       "    <tr>\n",
       "      <th>4</th>\n",
       "      <td>left</td>\n",
       "      <td>images/gorilla_fat.jpeg</td>\n",
       "      <td>gorilla</td>\n",
       "      <td>0</td>\n",
       "      <td>3</td>\n",
       "      <td>3</td>\n",
       "      <td>1</td>\n",
       "      <td>left</td>\n",
       "      <td>1</td>\n",
       "      <td>0.110976</td>\n",
       "      <td>2015_Aug_26_0856</td>\n",
       "      <td>60.100131</td>\n",
       "      <td>proficient</td>\n",
       "      <td>1</td>\n",
       "      <td>1</td>\n",
       "    </tr>\n",
       "    <tr>\n",
       "      <th>5</th>\n",
       "      <td>right</td>\n",
       "      <td>images/cat_eyes.jpeg</td>\n",
       "      <td>cat</td>\n",
       "      <td>0</td>\n",
       "      <td>4</td>\n",
       "      <td>4</td>\n",
       "      <td>3</td>\n",
       "      <td>up</td>\n",
       "      <td>0</td>\n",
       "      <td>0.179393</td>\n",
       "      <td>2015_Aug_26_0856</td>\n",
       "      <td>60.100131</td>\n",
       "      <td>proficient</td>\n",
       "      <td>1</td>\n",
       "      <td>1</td>\n",
       "    </tr>\n",
       "  </tbody>\n",
       "</table>\n",
       "</div>"
      ],
      "text/plain": [
       "  correct_ans                     images type_of_image  trials_2.thisRepN  \\\n",
       "1        left   images/gorilla_face.jpeg       gorilla                  0   \n",
       "2       right  images/ear_muffs_cat.jpeg           cat                  0   \n",
       "3          up   images/icecream_hog.jpeg           hog                  0   \n",
       "4        left    images/gorilla_fat.jpeg       gorilla                  0   \n",
       "5       right       images/cat_eyes.jpeg           cat                  0   \n",
       "\n",
       "   trials_2.thisTrialN  trials_2.thisN  trials_2.thisIndex key_resp_4.keys  \\\n",
       "1                    0               0                   0            left   \n",
       "2                    1               1                   4              up   \n",
       "3                    2               2                   7           right   \n",
       "4                    3               3                   1            left   \n",
       "5                    4               4                   3              up   \n",
       "\n",
       "   key_resp_4.corr  key_resp_4.rt              date  frameRate     expName  \\\n",
       "1                1       0.836069  2015_Aug_26_0856  60.100131  proficient   \n",
       "2                0       0.194480  2015_Aug_26_0856  60.100131  proficient   \n",
       "3                0       0.155467  2015_Aug_26_0856  60.100131  proficient   \n",
       "4                1       0.110976  2015_Aug_26_0856  60.100131  proficient   \n",
       "5                0       0.179393  2015_Aug_26_0856  60.100131  proficient   \n",
       "\n",
       "   session  participant  \n",
       "1        1            1  \n",
       "2        1            1  \n",
       "3        1            1  \n",
       "4        1            1  \n",
       "5        1            1  "
      ]
     },
     "execution_count": 15,
     "metadata": {},
     "output_type": "execute_result"
    }
   ],
   "source": [
    "# drop all colums with NA's\n",
    "df.dropna(axis=1, inplace=True, how='all')\n",
    "df.head()"
   ]
  },
  {
   "cell_type": "code",
   "execution_count": 16,
   "metadata": {
    "collapsed": true
   },
   "outputs": [],
   "source": [
    "# save out new dataframe as csv\n",
    "df.to_csv('data/ID001.csv', index=False)\n",
    "\n",
    "# to read back in you can use:\n",
    "#df = pd.read_csv('data/ID001.csv')"
   ]
  },
  {
   "cell_type": "markdown",
   "metadata": {},
   "source": [
    "----------\n",
    "\n",
    "Now that we have cleaned the data, it might be helpful to visualise it. To do this we need to import some packages. \n",
    "\n",
    "-----------"
   ]
  },
  {
   "cell_type": "code",
   "execution_count": 19,
   "metadata": {
    "collapsed": true
   },
   "outputs": [],
   "source": [
    "import matplotlib as mpl\n",
    "import matplotlib.pyplot as plt\n",
    "import seaborn as sns\n",
    "\n",
    "# to see the plots in the workspace we use:\n",
    "%matplotlib inline\n",
    "\n",
    "# these commands are for asthetics\n",
    "sns.set_color_codes()\n",
    "sns.set_style('whitegrid')"
   ]
  },
  {
   "cell_type": "code",
   "execution_count": 20,
   "metadata": {
    "collapsed": false
   },
   "outputs": [
    {
     "data": {
      "text/plain": [
       "<matplotlib.axes._subplots.AxesSubplot at 0x1093021d0>"
      ]
     },
     "execution_count": 20,
     "metadata": {},
     "output_type": "execute_result"
    },
    {
     "data": {
      "image/png": "[encoded data removed]",
      "text/plain": [
       "<matplotlib.figure.Figure at 0x1076e5a90>"
      ]
     },
     "metadata": {},
     "output_type": "display_data"
    }
   ],
   "source": [
    "# basic plot of all the columns\n",
    "df.plot()"
   ]
  },
  {
   "cell_type": "code",
   "execution_count": 21,
   "metadata": {
    "collapsed": true
   },
   "outputs": [],
   "source": [
    "# find out what the function 'plot' in the package matplotlib.pyplot ('plt') does\n",
    "plt.plot?"
   ]
  },
  {
   "cell_type": "code",
   "execution_count": 22,
   "metadata": {
    "collapsed": false
   },
   "outputs": [
    {
     "data": {
      "text/plain": [
       "<matplotlib.axes._subplots.AxesSubplot at 0x1094746d0>"
      ]
     },
     "execution_count": 22,
     "metadata": {},
     "output_type": "execute_result"
    },
    {
     "data": {
      "image/png": "[encoded data removed]",
      "text/plain": [
       "<matplotlib.figure.Figure at 0x1093fed90>"
      ]
     },
     "metadata": {},
     "output_type": "display_data"
    }
   ],
   "source": [
    "# plot one column\n",
    "df['key_resp_4.rt'].plot(legend=True)\n"
   ]
  },
  {
   "cell_type": "code",
   "execution_count": 23,
   "metadata": {
    "collapsed": false
   },
   "outputs": [
    {
     "data": {
      "text/plain": [
       "type_of_image\n",
       "cat        Axes(0.125,0.125;0.775x0.775)\n",
       "gorilla    Axes(0.125,0.125;0.775x0.775)\n",
       "hog        Axes(0.125,0.125;0.775x0.775)\n",
       "Name: key_resp_4.rt, dtype: object"
      ]
     },
     "execution_count": 23,
     "metadata": {},
     "output_type": "execute_result"
    },
    {
     "data": {
      "image/png": "[encoded data removed]",
      "text/plain": [
       "<matplotlib.figure.Figure at 0x1093fe690>"
      ]
     },
     "metadata": {},
     "output_type": "display_data"
    }
   ],
   "source": [
    "# plot the reaction time by the type of image\n",
    "df.groupby('type_of_image')['key_resp_4.rt'].plot(legend=True)"
   ]
  },
  {
   "cell_type": "code",
   "execution_count": 25,
   "metadata": {
    "collapsed": false
   },
   "outputs": [],
   "source": [
    "# create variable that groups reation time by the animal type\n",
    "animal_type_group = df.groupby('type_of_image')['key_resp_4.rt']"
   ]
  },
  {
   "cell_type": "code",
   "execution_count": 26,
   "metadata": {
    "collapsed": false
   },
   "outputs": [
    {
     "data": {
      "text/plain": [
       "type_of_image\n",
       "cat        Axes(0.125,0.125;0.775x0.775)\n",
       "gorilla    Axes(0.125,0.125;0.775x0.775)\n",
       "hog        Axes(0.125,0.125;0.775x0.775)\n",
       "Name: key_resp_4.rt, dtype: object"
      ]
     },
     "execution_count": 26,
     "metadata": {},
     "output_type": "execute_result"
    },
    {
     "data": {
      "image/png": "[encoded data removed]",
      "text/plain": [
       "<matplotlib.figure.Figure at 0x1099280d0>"
      ]
     },
     "metadata": {},
     "output_type": "display_data"
    }
   ],
   "source": [
    "# then we can plot that variable\n",
    "animal_type_group.plot(legend = True)"
   ]
  },
  {
   "cell_type": "code",
   "execution_count": 27,
   "metadata": {
    "collapsed": false
   },
   "outputs": [
    {
     "data": {
      "text/plain": [
       "type_of_image\n",
       "cat        0.166263\n",
       "gorilla    0.201250\n",
       "hog        0.113751\n",
       "Name: key_resp_4.rt, dtype: float64"
      ]
     },
     "execution_count": 27,
     "metadata": {},
     "output_type": "execute_result"
    }
   ],
   "source": [
    "# we can print out statistics for that variable\n",
    "animal_type_group.mean()"
   ]
  },
  {
   "cell_type": "code",
   "execution_count": 29,
   "metadata": {
    "collapsed": false
   },
   "outputs": [
    {
     "name": "stdout",
     "output_type": "stream",
     "text": [
      "Mean:  type_of_image\n",
      "cat        0.166263\n",
      "gorilla    0.201250\n",
      "hog        0.113751\n",
      "Name: key_resp_4.rt, dtype: float64\n",
      "SD:  type_of_image\n",
      "cat        0.065137\n",
      "gorilla    0.199446\n",
      "hog        0.054742\n",
      "Name: key_resp_4.rt, dtype: float64\n"
     ]
    }
   ],
   "source": [
    "print('Mean: ',animal_type_group.mean())\n",
    "print('SD: ',animal_type_group.std())"
   ]
  },
  {
   "cell_type": "code",
   "execution_count": 28,
   "metadata": {
    "collapsed": false
   },
   "outputs": [
    {
     "data": {
      "text/plain": [
       "<matplotlib.axes._subplots.AxesSubplot at 0x109987690>"
      ]
     },
     "execution_count": 28,
     "metadata": {},
     "output_type": "execute_result"
    },
    {
     "data": {
      "image/png": "[encoded data removed]",
      "text/plain": [
       "<matplotlib.figure.Figure at 0x103197f50>"
      ]
     },
     "metadata": {},
     "output_type": "display_data"
    }
   ],
   "source": [
    "# we can also visualise the reaction time by the type of image as a boxplot\n",
    "df.boxplot('key_resp_4.rt',by = 'type_of_image')"
   ]
  },
  {
   "cell_type": "code",
   "execution_count": 38,
   "metadata": {
    "collapsed": false
   },
   "outputs": [
    {
     "data": {
      "image/png": "[encoded data removed]",
      "text/plain": [
       "<matplotlib.figure.Figure at 0x10b364350>"
      ]
     },
     "metadata": {},
     "output_type": "display_data"
    }
   ],
   "source": [
    "# save plot to the current working directory\n",
    "df.boxplot('key_resp_4.rt',by = 'type_of_image')\n",
    "plt.savefig('ID001_boxplot.png')"
   ]
  },
  {
   "cell_type": "code",
   "execution_count": null,
   "metadata": {
    "collapsed": false
   },
   "outputs": [],
   "source": []
  },
  {
   "cell_type": "code",
   "execution_count": null,
   "metadata": {
    "collapsed": true
   },
   "outputs": [],
   "source": []
  }
 ],
 "metadata": {
  "kernelspec": {
   "display_name": "Python 2",
   "language": "python",
   "name": "python2"
  },
  "language_info": {
   "codemirror_mode": {
    "name": "ipython",
    "version": 2
   },
   "file_extension": ".py",
   "mimetype": "text/x-python",
   "name": "python",
   "nbconvert_exporter": "python",
   "pygments_lexer": "ipython2",
   "version": "2.7.10"
  }
 },
 "nbformat": 4,
 "nbformat_minor": 0
}
